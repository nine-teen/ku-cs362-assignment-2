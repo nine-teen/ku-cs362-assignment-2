{
 "cells": [
  {
   "cell_type": "code",
   "execution_count": 190,
   "metadata": {},
   "outputs": [],
   "source": [
    "from sklearn import datasets as ds\n",
    "import numpy as np\n",
    "from sklearn.model_selection import train_test_split\n",
    "iris = ds.load_iris()\n",
    "\n",
    "X = iris.data\n",
    "Y = iris.target\n",
    "Y[Y > 0] = 1\n",
    "Y[Y <= 0] = -1\n",
    "d = np.shape(X)[1]"
   ]
  },
  {
   "cell_type": "code",
   "execution_count": 191,
   "metadata": {},
   "outputs": [],
   "source": [
    "class Perceptron:\n",
    "    def __init__(self, d):\n",
    "        self.d = d\n",
    "\n",
    "    @staticmethod\n",
    "    def LinearClassifier(d):\n",
    "        return Perceptron(d)\n",
    "\n",
    "    def fit(self, x_train, y_train):\n",
    "        x_train = np.c_[x_train, np.ones(x_train.shape[0])]\n",
    "\n",
    "        d = self.d\n",
    "        self._w = np.zeros(d + 1)\n",
    "\n",
    "        while True:\n",
    "            m = 0\n",
    "            for i, _ in enumerate(x_train):\n",
    "                if y_train[i] * np.dot(self._w, x_train[i]) <= 0:\n",
    "                    self._w += y_train[i] * x_train[i]\n",
    "                    m += 1\n",
    "\n",
    "            if m == 0:\n",
    "                break\n",
    "\n",
    "    def predict(self, x):\n",
    "        x = np.append(x, 1)\n",
    "\n",
    "        return np.sign(np.dot(self._w, x))\n",
    "\n",
    "    def score(self, x_test, y_test):\n",
    "        score = 0\n",
    "        for i, _ in enumerate(x_test):\n",
    "            y_pred = self.predict(x_test[i])\n",
    "\n",
    "            if y_test[i] * y_pred > 0:\n",
    "                score += 1\n",
    "\n",
    "        accuracy = score / x_test.shape[0]\n",
    "\n",
    "        return accuracy\n"
   ]
  },
  {
   "cell_type": "code",
   "execution_count": 192,
   "metadata": {},
   "outputs": [
    {
     "data": {
      "text/plain": [
       "1.0"
      ]
     },
     "execution_count": 192,
     "metadata": {},
     "output_type": "execute_result"
    }
   ],
   "source": [
    "x_train, x_test, y_train, y_test = train_test_split(X, Y, test_size=0.2)\n",
    "\n",
    "h = Perceptron.LinearClassifier(d)\n",
    "\n",
    "h.fit(x_train, y_train)\n",
    "h.score(x_test, y_test)\n"
   ]
  }
 ],
 "metadata": {
  "kernelspec": {
   "display_name": "Python 3",
   "language": "python",
   "name": "python3"
  },
  "language_info": {
   "codemirror_mode": {
    "name": "ipython",
    "version": 3
   },
   "file_extension": ".py",
   "mimetype": "text/x-python",
   "name": "python",
   "nbconvert_exporter": "python",
   "pygments_lexer": "ipython3",
   "version": "3.13.1"
  }
 },
 "nbformat": 4,
 "nbformat_minor": 4
}
